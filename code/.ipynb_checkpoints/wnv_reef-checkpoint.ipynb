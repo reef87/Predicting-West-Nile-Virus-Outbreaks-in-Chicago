{
 "cells": [
  {
   "cell_type": "code",
   "execution_count": 1,
   "metadata": {},
   "outputs": [
    {
     "name": "stderr",
     "output_type": "stream",
     "text": [
      "Using TensorFlow backend.\n"
     ]
    }
   ],
   "source": [
    "import pandas as pd\n",
    "import matplotlib.pyplot as plt\n",
    "import seaborn as sns\n",
    "import numpy as np\n",
    "from sklearn.model_selection import train_test_split, GridSearchCV, cross_val_score, cross_validate\n",
    "from sklearn.ensemble import RandomForestClassifier, AdaBoostClassifier\n",
    "from sklearn.metrics import accuracy_score, confusion_matrix, classification_report\n",
    "from sklearn.neighbors import KNeighborsClassifier\n",
    "import tensorflow as tf\n",
    "import keras\n",
    "\n",
    "from keras.models import Sequential\n",
    "from keras.layers import Dense, Dropout, Activation, Flatten\n",
    "from keras.layers import Convolution1D, MaxPooling1D\n",
    "from keras.utils import to_categorical\n",
    "from keras import regularizers\n",
    "from keras.layers import Dropout\n",
    "from keras.callbacks import EarlyStopping\n",
    "from keras import optimizers\n",
    "\n",
    "%matplotlib inline"
   ]
  },
  {
   "cell_type": "code",
   "execution_count": 2,
   "metadata": {},
   "outputs": [],
   "source": [
    "train = pd.read_csv('../assets/train.csv')\n",
    "test = pd.read_csv('../assets/test.csv')\n",
    "weather = pd.read_csv('../assets/weather.csv')\n",
    "spray = pd.read_csv('../assets/spray.csv')\n",
    "wnv_df = pd.read_csv('../output/train_spray_weather.csv')\n",
    "wnv_test = pd.read_csv('../output/test_spray_weather.csv')"
   ]
  },
  {
   "cell_type": "code",
   "execution_count": 3,
   "metadata": {},
   "outputs": [
    {
     "data": {
      "text/html": [
       "<div>\n",
       "<style scoped>\n",
       "    .dataframe tbody tr th:only-of-type {\n",
       "        vertical-align: middle;\n",
       "    }\n",
       "\n",
       "    .dataframe tbody tr th {\n",
       "        vertical-align: top;\n",
       "    }\n",
       "\n",
       "    .dataframe thead th {\n",
       "        text-align: right;\n",
       "    }\n",
       "</style>\n",
       "<table border=\"1\" class=\"dataframe\">\n",
       "  <thead>\n",
       "    <tr style=\"text-align: right;\">\n",
       "      <th></th>\n",
       "      <th>Unnamed: 0</th>\n",
       "      <th>Date</th>\n",
       "      <th>Address</th>\n",
       "      <th>Species</th>\n",
       "      <th>Block</th>\n",
       "      <th>Street</th>\n",
       "      <th>Trap</th>\n",
       "      <th>AddressNumberAndStreet</th>\n",
       "      <th>Latitude</th>\n",
       "      <th>Longitude</th>\n",
       "      <th>...</th>\n",
       "      <th>SprayDate</th>\n",
       "      <th>SprayDistance</th>\n",
       "      <th>SprayLatitude</th>\n",
       "      <th>SprayLongitude</th>\n",
       "      <th>Weather_Info</th>\n",
       "      <th>HeatMonthAvg</th>\n",
       "      <th>CoolMonthAvg</th>\n",
       "      <th>PrecipMonthAvg</th>\n",
       "      <th>WetBulbMonthAvg</th>\n",
       "      <th>DewPointMonthAvg</th>\n",
       "    </tr>\n",
       "  </thead>\n",
       "  <tbody>\n",
       "    <tr>\n",
       "      <th>0</th>\n",
       "      <td>0</td>\n",
       "      <td>2007-05-29</td>\n",
       "      <td>4100 North Oak Park Avenue, Chicago, IL 60634,...</td>\n",
       "      <td>CULEX PIPIENS/RESTUANS</td>\n",
       "      <td>41</td>\n",
       "      <td>N OAK PARK AVE</td>\n",
       "      <td>T002</td>\n",
       "      <td>4100  N OAK PARK AVE, Chicago, IL</td>\n",
       "      <td>41.954690</td>\n",
       "      <td>-87.800991</td>\n",
       "      <td>...</td>\n",
       "      <td>NaN</td>\n",
       "      <td>0.0</td>\n",
       "      <td>0.0</td>\n",
       "      <td>0.0</td>\n",
       "      <td>3|3|0.0636|55|46</td>\n",
       "      <td>3</td>\n",
       "      <td>3</td>\n",
       "      <td>0.0636</td>\n",
       "      <td>55</td>\n",
       "      <td>46</td>\n",
       "    </tr>\n",
       "    <tr>\n",
       "      <th>1</th>\n",
       "      <td>1</td>\n",
       "      <td>2007-05-29</td>\n",
       "      <td>4100 North Oak Park Avenue, Chicago, IL 60634,...</td>\n",
       "      <td>CULEX RESTUANS</td>\n",
       "      <td>41</td>\n",
       "      <td>N OAK PARK AVE</td>\n",
       "      <td>T002</td>\n",
       "      <td>4100  N OAK PARK AVE, Chicago, IL</td>\n",
       "      <td>41.954690</td>\n",
       "      <td>-87.800991</td>\n",
       "      <td>...</td>\n",
       "      <td>NaN</td>\n",
       "      <td>0.0</td>\n",
       "      <td>0.0</td>\n",
       "      <td>0.0</td>\n",
       "      <td>3|3|0.0636|55|46</td>\n",
       "      <td>3</td>\n",
       "      <td>3</td>\n",
       "      <td>0.0636</td>\n",
       "      <td>55</td>\n",
       "      <td>46</td>\n",
       "    </tr>\n",
       "    <tr>\n",
       "      <th>2</th>\n",
       "      <td>2</td>\n",
       "      <td>2007-05-29</td>\n",
       "      <td>6200 North Mandell Avenue, Chicago, IL 60646, USA</td>\n",
       "      <td>CULEX RESTUANS</td>\n",
       "      <td>62</td>\n",
       "      <td>N MANDELL AVE</td>\n",
       "      <td>T007</td>\n",
       "      <td>6200  N MANDELL AVE, Chicago, IL</td>\n",
       "      <td>41.994991</td>\n",
       "      <td>-87.769279</td>\n",
       "      <td>...</td>\n",
       "      <td>NaN</td>\n",
       "      <td>0.0</td>\n",
       "      <td>0.0</td>\n",
       "      <td>0.0</td>\n",
       "      <td>3|3|0.0636|55|46</td>\n",
       "      <td>3</td>\n",
       "      <td>3</td>\n",
       "      <td>0.0636</td>\n",
       "      <td>55</td>\n",
       "      <td>46</td>\n",
       "    </tr>\n",
       "    <tr>\n",
       "      <th>3</th>\n",
       "      <td>3</td>\n",
       "      <td>2007-05-29</td>\n",
       "      <td>7900 West Foster Avenue, Chicago, IL 60656, USA</td>\n",
       "      <td>CULEX PIPIENS/RESTUANS</td>\n",
       "      <td>79</td>\n",
       "      <td>W FOSTER AVE</td>\n",
       "      <td>T015</td>\n",
       "      <td>7900  W FOSTER AVE, Chicago, IL</td>\n",
       "      <td>41.974089</td>\n",
       "      <td>-87.824812</td>\n",
       "      <td>...</td>\n",
       "      <td>NaN</td>\n",
       "      <td>0.0</td>\n",
       "      <td>0.0</td>\n",
       "      <td>0.0</td>\n",
       "      <td>3|3|0.0636|55|46</td>\n",
       "      <td>3</td>\n",
       "      <td>3</td>\n",
       "      <td>0.0636</td>\n",
       "      <td>55</td>\n",
       "      <td>46</td>\n",
       "    </tr>\n",
       "    <tr>\n",
       "      <th>4</th>\n",
       "      <td>4</td>\n",
       "      <td>2007-05-29</td>\n",
       "      <td>7900 West Foster Avenue, Chicago, IL 60656, USA</td>\n",
       "      <td>CULEX RESTUANS</td>\n",
       "      <td>79</td>\n",
       "      <td>W FOSTER AVE</td>\n",
       "      <td>T015</td>\n",
       "      <td>7900  W FOSTER AVE, Chicago, IL</td>\n",
       "      <td>41.974089</td>\n",
       "      <td>-87.824812</td>\n",
       "      <td>...</td>\n",
       "      <td>NaN</td>\n",
       "      <td>0.0</td>\n",
       "      <td>0.0</td>\n",
       "      <td>0.0</td>\n",
       "      <td>3|3|0.0636|55|46</td>\n",
       "      <td>3</td>\n",
       "      <td>3</td>\n",
       "      <td>0.0636</td>\n",
       "      <td>55</td>\n",
       "      <td>46</td>\n",
       "    </tr>\n",
       "  </tbody>\n",
       "</table>\n",
       "<p>5 rows × 27 columns</p>\n",
       "</div>"
      ],
      "text/plain": [
       "   Unnamed: 0        Date                                            Address  \\\n",
       "0           0  2007-05-29  4100 North Oak Park Avenue, Chicago, IL 60634,...   \n",
       "1           1  2007-05-29  4100 North Oak Park Avenue, Chicago, IL 60634,...   \n",
       "2           2  2007-05-29  6200 North Mandell Avenue, Chicago, IL 60646, USA   \n",
       "3           3  2007-05-29    7900 West Foster Avenue, Chicago, IL 60656, USA   \n",
       "4           4  2007-05-29    7900 West Foster Avenue, Chicago, IL 60656, USA   \n",
       "\n",
       "                  Species  Block           Street  Trap  \\\n",
       "0  CULEX PIPIENS/RESTUANS     41   N OAK PARK AVE  T002   \n",
       "1          CULEX RESTUANS     41   N OAK PARK AVE  T002   \n",
       "2          CULEX RESTUANS     62    N MANDELL AVE  T007   \n",
       "3  CULEX PIPIENS/RESTUANS     79     W FOSTER AVE  T015   \n",
       "4          CULEX RESTUANS     79     W FOSTER AVE  T015   \n",
       "\n",
       "              AddressNumberAndStreet   Latitude  Longitude        ...         \\\n",
       "0  4100  N OAK PARK AVE, Chicago, IL  41.954690 -87.800991        ...          \n",
       "1  4100  N OAK PARK AVE, Chicago, IL  41.954690 -87.800991        ...          \n",
       "2   6200  N MANDELL AVE, Chicago, IL  41.994991 -87.769279        ...          \n",
       "3    7900  W FOSTER AVE, Chicago, IL  41.974089 -87.824812        ...          \n",
       "4    7900  W FOSTER AVE, Chicago, IL  41.974089 -87.824812        ...          \n",
       "\n",
       "   SprayDate  SprayDistance  SprayLatitude  SprayLongitude      Weather_Info  \\\n",
       "0        NaN            0.0            0.0             0.0  3|3|0.0636|55|46   \n",
       "1        NaN            0.0            0.0             0.0  3|3|0.0636|55|46   \n",
       "2        NaN            0.0            0.0             0.0  3|3|0.0636|55|46   \n",
       "3        NaN            0.0            0.0             0.0  3|3|0.0636|55|46   \n",
       "4        NaN            0.0            0.0             0.0  3|3|0.0636|55|46   \n",
       "\n",
       "   HeatMonthAvg CoolMonthAvg PrecipMonthAvg  WetBulbMonthAvg  DewPointMonthAvg  \n",
       "0             3            3         0.0636               55                46  \n",
       "1             3            3         0.0636               55                46  \n",
       "2             3            3         0.0636               55                46  \n",
       "3             3            3         0.0636               55                46  \n",
       "4             3            3         0.0636               55                46  \n",
       "\n",
       "[5 rows x 27 columns]"
      ]
     },
     "execution_count": 3,
     "metadata": {},
     "output_type": "execute_result"
    }
   ],
   "source": [
    "wnv_df.head()"
   ]
  },
  {
   "cell_type": "code",
   "execution_count": 4,
   "metadata": {},
   "outputs": [
    {
     "data": {
      "text/plain": [
       "(10506, 27)"
      ]
     },
     "execution_count": 4,
     "metadata": {},
     "output_type": "execute_result"
    }
   ],
   "source": [
    "wnv_df.shape"
   ]
  },
  {
   "cell_type": "code",
   "execution_count": 5,
   "metadata": {},
   "outputs": [],
   "source": [
    "wnv_df.drop('Unnamed: 0', axis=1, inplace=True)"
   ]
  },
  {
   "cell_type": "code",
   "execution_count": 6,
   "metadata": {},
   "outputs": [
    {
     "data": {
      "text/plain": [
       "Index(['Date', 'Address', 'Species', 'Block', 'Street', 'Trap',\n",
       "       'AddressNumberAndStreet', 'Latitude', 'Longitude', 'AddressAccuracy',\n",
       "       'NumMosquitos', 'WnvPresent', 'Year', 'Month', 'Day', 'spray_info',\n",
       "       'SprayDate', 'SprayDistance', 'SprayLatitude', 'SprayLongitude',\n",
       "       'Weather_Info', 'HeatMonthAvg', 'CoolMonthAvg', 'PrecipMonthAvg',\n",
       "       'WetBulbMonthAvg', 'DewPointMonthAvg'],\n",
       "      dtype='object')"
      ]
     },
     "execution_count": 6,
     "metadata": {},
     "output_type": "execute_result"
    }
   ],
   "source": [
    "wnv_df.columns"
   ]
  },
  {
   "cell_type": "code",
   "execution_count": 7,
   "metadata": {},
   "outputs": [
    {
     "data": {
      "text/plain": [
       "0    9955\n",
       "1     551\n",
       "Name: WnvPresent, dtype: int64"
      ]
     },
     "execution_count": 7,
     "metadata": {},
     "output_type": "execute_result"
    }
   ],
   "source": [
    "wnv_df['WnvPresent'].value_counts()"
   ]
  },
  {
   "cell_type": "code",
   "execution_count": 8,
   "metadata": {},
   "outputs": [
    {
     "data": {
      "text/plain": [
       "0.9475537787930707"
      ]
     },
     "execution_count": 8,
     "metadata": {},
     "output_type": "execute_result"
    }
   ],
   "source": [
    "# Establishing our baseline accuracy\n",
    "\n",
    "baseline_accuracy = wnv_df['WnvPresent'].value_counts()[0]/len(wnv_df['WnvPresent'])\n",
    "baseline_accuracy"
   ]
  },
  {
   "cell_type": "code",
   "execution_count": 9,
   "metadata": {},
   "outputs": [
    {
     "data": {
      "image/png": "[encoded data removed]",
      "text/plain": [
       "<matplotlib.figure.Figure at 0x114c8ec18>"
      ]
     },
     "metadata": {},
     "output_type": "display_data"
    }
   ],
   "source": [
    "# correlation heatmap\n",
    "\n",
    "mean_corr = wnv_df.corr()\n",
    "\n",
    "fig, ax = plt.subplots(figsize=(9,7))\n",
    "\n",
    "mask = np.zeros_like(mean_corr, dtype=np.bool)\n",
    "mask[np.triu_indices_from(mask)] = True\n",
    "\n",
    "ax = sns.heatmap(mean_corr, mask=mask, ax=ax)\n",
    "\n",
    "ax.set_xticklabels(ax.xaxis.get_ticklabels(), fontsize=14)\n",
    "ax.set_yticklabels(ax.yaxis.get_ticklabels(), fontsize=14)\n",
    "\n",
    "plt.show()"
   ]
  },
  {
   "cell_type": "code",
   "execution_count": 18,
   "metadata": {},
   "outputs": [],
   "source": [
    "X = pd.DataFrame(list(range(10506)))"
   ]
  },
  {
   "cell_type": "code",
   "execution_count": 21,
   "metadata": {},
   "outputs": [],
   "source": [
    "test = pd.DataFrame(list(range(116293)))"
   ]
  },
  {
   "cell_type": "code",
   "execution_count": 29,
   "metadata": {},
   "outputs": [
    {
     "data": {
      "text/plain": [
       "\"\\nfrom sklearn.preprocessing import LabelEncoder\\n\\nlbl = LabelEncoder()\\nlbl.fit(list(wnv_df['Species'].values) + list(wnv_test['Species'].values))\\nX['Species'] = lbl.transform(wnv_df['Species'].values)\\ntest['Species'] = lbl.transform(wnv_test['Species'].values)\\n\\nlbl.fit(list(wnv_df['Trap'].values) + list(wnv_test['Trap'].values))\\nX['Trap'] = lbl.transform(wnv_df['Trap'].values)\\ntest['Trap'] = lbl.transform(wnv_df['Trap'].values)\\n\\nlbl.fit(list(wnv_df['HeatMonthAvg'].values) + list(wnv_test['HeatMonthAvg'].values))\\nX['Trap'] = lbl.transform(wnv_df['Trap'].values)\\ntest['Trap'] = lbl.transform(wnv_test['Trap'].values)\\n\\nlbl.fit(list(wnv_df['CoolMonthAvg'].values) + list(wnv_test['CoolMonthAvg'].values))\\nX['CoolMonthAvg'] = lbl.transform(wnv_df['CoolMonthAvg'].values)\\ntest['CoolMonthAvg'] = lbl.transform(wnv_test['CoolMonthAvg'].values)\\n\\nlbl.fit(list(wnv_df['PrecipMonthAvg'].values) + list(wnv_test['PrecipMonthAvg'].values))\\nX['PrecipMonthAvg'] = lbl.transform(wnv_df['PrecipMonthAvg'].values)\\ntest['PrecipMonthAvg'] = lbl.transform(wnv_test['PrecipMonthAvg'].values)\\n\\nlbl.fit(list(wnv_df['WetBulbMonthAvg'].values) + list(wnv_test['WetBulbMonthAvg'].values))\\nX['WetBulbMonthAvg'] = lbl.transform(wnv_df['WetBulbMonthAvg'].values)\\ntest['WetBulbMonthAvg'] = lbl.transform(wnv_test['WetBulbMonthAvg'].values)\\n\\nlbl.fit(list(wnv_df['DewPointMonthAvg'].values) + list(wnv_test['DewPointMonthAvg'].values))\\nX['DewPointMonthAvg'] = lbl.transform(wnv_df['DewPointMonthAvg'].values)\\ntest['DewPointMonthAvg'] = lbl.transform(wnv_test['DewPointMonthAvg'].values)\\n\""
      ]
     },
     "execution_count": 29,
     "metadata": {},
     "output_type": "execute_result"
    }
   ],
   "source": [
    "from sklearn.preprocessing import LabelEncoder\n",
    "\n",
    "lbl = LabelEncoder()\n",
    "lbl.fit(list(wnv_df['Species'].values) + list(wnv_test['Species'].values))\n",
    "wnv_df['Species'] = lbl.transform(wnv_df['Species'].values)\n",
    "wnv_test['Species'] = lbl.transform(wnv_test['Species'].values)\n",
    "\n",
    "lbl.fit(list(wnv_df['Trap'].values) + list(wnv_test['Trap'].values))\n",
    "wnv_df['Trap'] = lbl.transform(wnv_df['Trap'].values)\n",
    "wnv_test['Trap'] = lbl.transform(wnv_df['Trap'].values)\n",
    "\n",
    "lbl.fit(list(wnv_df['HeatMonthAvg'].values) + list(wnv_test['HeatMonthAvg'].values))\n",
    "wnv_df['Trap'] = lbl.transform(wnv_df['Trap'].values)\n",
    "wnv_test['Trap'] = lbl.transform(wnv_test['Trap'].values)\n",
    "\n",
    "lbl.fit(list(wnv_df['CoolMonthAvg'].values) + list(wnv_test['CoolMonthAvg'].values))\n",
    "wnv_df['CoolMonthAvg'] = lbl.transform(wnv_df['CoolMonthAvg'].values)\n",
    "wnv_test['CoolMonthAvg'] = lbl.transform(wnv_test['CoolMonthAvg'].values)\n",
    "\n",
    "lbl.fit(list(wnv_df['PrecipMonthAvg'].values) + list(wnv_test['PrecipMonthAvg'].values))\n",
    "wnv_df['PrecipMonthAvg'] = lbl.transform(wnv_df['PrecipMonthAvg'].values)\n",
    "wnv_test['PrecipMonthAvg'] = lbl.transform(wnv_test['PrecipMonthAvg'].values)\n",
    "\n",
    "lbl.fit(list(wnv_df['WetBulbMonthAvg'].values) + list(wnv_test['WetBulbMonthAvg'].values))\n",
    "wnv_df['WetBulbMonthAvg'] = lbl.transform(wnv_df['WetBulbMonthAvg'].values)\n",
    "wnv_test['WetBulbMonthAvg'] = lbl.transform(wnv_test['WetBulbMonthAvg'].values)\n",
    "\n",
    "lbl.fit(list(wnv_df['DewPointMonthAvg'].values) + list(wnv_test['DewPointMonthAvg'].values))\n",
    "wnv_df['DewPointMonthAvg'] = lbl.transform(wnv_df['DewPointMonthAvg'].values)\n",
    "wnv_test['DewPointMonthAvg'] = lbl.transform(wnv_test['DewPointMonthAvg'].values)\n"
   ]
  },
  {
   "cell_type": "code",
   "execution_count": 30,
   "metadata": {},
   "outputs": [],
   "source": [
    "spec_d = pd.get_dummies(wnv_df['Species'])\n",
    "trap_d = pd.get_dummies(wnv_df['Trap'])\n",
    "heat_d = pd.get_dummies(wnv_df['HeatMonthAvg'])\n",
    "cool_d = pd.get_dummies(wnv_df['CoolMonthAvg'])\n",
    "precip_d = pd.get_dummies(wnv_df['PrecipMonthAvg'])\n",
    "wetbulb_d = pd.get_dummies(wnv_df['WetBulbMonthAvg'])\n",
    "dewpoint_d = pd.get_dummies(wnv_df['DewPointMonthAvg'])\n",
    "\n",
    "y = wnv_df['WnvPresent'].values\n",
    "X = pd.concat([precip_d, spec_d, trap_d, heat_d, cool_d, wetbulb_d, dewpoint_d], axis=1)\n",
    "\n",
    "X_train, X_test, y_train, y_test = train_test_split(X,y, random_state=42)"
   ]
  },
  {
   "cell_type": "code",
   "execution_count": 31,
   "metadata": {},
   "outputs": [
    {
     "data": {
      "text/html": [
       "<div>\n",
       "<style scoped>\n",
       "    .dataframe tbody tr th:only-of-type {\n",
       "        vertical-align: middle;\n",
       "    }\n",
       "\n",
       "    .dataframe tbody tr th {\n",
       "        vertical-align: top;\n",
       "    }\n",
       "\n",
       "    .dataframe thead th {\n",
       "        text-align: right;\n",
       "    }\n",
       "</style>\n",
       "<table border=\"1\" class=\"dataframe\">\n",
       "  <thead>\n",
       "    <tr style=\"text-align: right;\">\n",
       "      <th></th>\n",
       "      <th>0.0355</th>\n",
       "      <th>0.045</th>\n",
       "      <th>0.0586</th>\n",
       "      <th>0.0636</th>\n",
       "      <th>0.0687</th>\n",
       "      <th>0.0714</th>\n",
       "      <th>0.0731</th>\n",
       "      <th>0.0783</th>\n",
       "      <th>0.0968</th>\n",
       "      <th>0.1124</th>\n",
       "      <th>...</th>\n",
       "      <th>48.0</th>\n",
       "      <th>52.0</th>\n",
       "      <th>54.0</th>\n",
       "      <th>55.0</th>\n",
       "      <th>56.0</th>\n",
       "      <th>57.0</th>\n",
       "      <th>59.0</th>\n",
       "      <th>60.0</th>\n",
       "      <th>62.0</th>\n",
       "      <th>64.0</th>\n",
       "    </tr>\n",
       "  </thead>\n",
       "  <tbody>\n",
       "    <tr>\n",
       "      <th>0</th>\n",
       "      <td>0</td>\n",
       "      <td>0</td>\n",
       "      <td>0</td>\n",
       "      <td>1</td>\n",
       "      <td>0</td>\n",
       "      <td>0</td>\n",
       "      <td>0</td>\n",
       "      <td>0</td>\n",
       "      <td>0</td>\n",
       "      <td>0</td>\n",
       "      <td>...</td>\n",
       "      <td>0</td>\n",
       "      <td>0</td>\n",
       "      <td>0</td>\n",
       "      <td>0</td>\n",
       "      <td>0</td>\n",
       "      <td>0</td>\n",
       "      <td>0</td>\n",
       "      <td>0</td>\n",
       "      <td>0</td>\n",
       "      <td>0</td>\n",
       "    </tr>\n",
       "    <tr>\n",
       "      <th>1</th>\n",
       "      <td>0</td>\n",
       "      <td>0</td>\n",
       "      <td>0</td>\n",
       "      <td>1</td>\n",
       "      <td>0</td>\n",
       "      <td>0</td>\n",
       "      <td>0</td>\n",
       "      <td>0</td>\n",
       "      <td>0</td>\n",
       "      <td>0</td>\n",
       "      <td>...</td>\n",
       "      <td>0</td>\n",
       "      <td>0</td>\n",
       "      <td>0</td>\n",
       "      <td>0</td>\n",
       "      <td>0</td>\n",
       "      <td>0</td>\n",
       "      <td>0</td>\n",
       "      <td>0</td>\n",
       "      <td>0</td>\n",
       "      <td>0</td>\n",
       "    </tr>\n",
       "    <tr>\n",
       "      <th>2</th>\n",
       "      <td>0</td>\n",
       "      <td>0</td>\n",
       "      <td>0</td>\n",
       "      <td>1</td>\n",
       "      <td>0</td>\n",
       "      <td>0</td>\n",
       "      <td>0</td>\n",
       "      <td>0</td>\n",
       "      <td>0</td>\n",
       "      <td>0</td>\n",
       "      <td>...</td>\n",
       "      <td>0</td>\n",
       "      <td>0</td>\n",
       "      <td>0</td>\n",
       "      <td>0</td>\n",
       "      <td>0</td>\n",
       "      <td>0</td>\n",
       "      <td>0</td>\n",
       "      <td>0</td>\n",
       "      <td>0</td>\n",
       "      <td>0</td>\n",
       "    </tr>\n",
       "    <tr>\n",
       "      <th>3</th>\n",
       "      <td>0</td>\n",
       "      <td>0</td>\n",
       "      <td>0</td>\n",
       "      <td>1</td>\n",
       "      <td>0</td>\n",
       "      <td>0</td>\n",
       "      <td>0</td>\n",
       "      <td>0</td>\n",
       "      <td>0</td>\n",
       "      <td>0</td>\n",
       "      <td>...</td>\n",
       "      <td>0</td>\n",
       "      <td>0</td>\n",
       "      <td>0</td>\n",
       "      <td>0</td>\n",
       "      <td>0</td>\n",
       "      <td>0</td>\n",
       "      <td>0</td>\n",
       "      <td>0</td>\n",
       "      <td>0</td>\n",
       "      <td>0</td>\n",
       "    </tr>\n",
       "    <tr>\n",
       "      <th>4</th>\n",
       "      <td>0</td>\n",
       "      <td>0</td>\n",
       "      <td>0</td>\n",
       "      <td>1</td>\n",
       "      <td>0</td>\n",
       "      <td>0</td>\n",
       "      <td>0</td>\n",
       "      <td>0</td>\n",
       "      <td>0</td>\n",
       "      <td>0</td>\n",
       "      <td>...</td>\n",
       "      <td>0</td>\n",
       "      <td>0</td>\n",
       "      <td>0</td>\n",
       "      <td>0</td>\n",
       "      <td>0</td>\n",
       "      <td>0</td>\n",
       "      <td>0</td>\n",
       "      <td>0</td>\n",
       "      <td>0</td>\n",
       "      <td>0</td>\n",
       "    </tr>\n",
       "  </tbody>\n",
       "</table>\n",
       "<p>5 rows × 208 columns</p>\n",
       "</div>"
      ],
      "text/plain": [
       "   0.0355   0.0450   0.0586   0.0636   0.0687   0.0714   0.0731   0.0783   \\\n",
       "0        0        0        0        1        0        0        0        0   \n",
       "1        0        0        0        1        0        0        0        0   \n",
       "2        0        0        0        1        0        0        0        0   \n",
       "3        0        0        0        1        0        0        0        0   \n",
       "4        0        0        0        1        0        0        0        0   \n",
       "\n",
       "   0.0968   0.1124    ...     48.0000  52.0000  54.0000  55.0000  56.0000  \\\n",
       "0        0        0   ...           0        0        0        0        0   \n",
       "1        0        0   ...           0        0        0        0        0   \n",
       "2        0        0   ...           0        0        0        0        0   \n",
       "3        0        0   ...           0        0        0        0        0   \n",
       "4        0        0   ...           0        0        0        0        0   \n",
       "\n",
       "   57.0000  59.0000  60.0000  62.0000  64.0000  \n",
       "0        0        0        0        0        0  \n",
       "1        0        0        0        0        0  \n",
       "2        0        0        0        0        0  \n",
       "3        0        0        0        0        0  \n",
       "4        0        0        0        0        0  \n",
       "\n",
       "[5 rows x 208 columns]"
      ]
     },
     "execution_count": 31,
     "metadata": {},
     "output_type": "execute_result"
    }
   ],
   "source": [
    "X.head()"
   ]
  },
  {
   "cell_type": "code",
   "execution_count": 15,
   "metadata": {},
   "outputs": [
    {
     "name": "stdout",
     "output_type": "stream",
     "text": [
      "Fitting 5 folds for each of 40 candidates, totalling 200 fits\n"
     ]
    },
    {
     "name": "stderr",
     "output_type": "stream",
     "text": [
      "[Parallel(n_jobs=4)]: Done  76 tasks      | elapsed:    1.9s\n"
     ]
    },
    {
     "name": "stdout",
     "output_type": "stream",
     "text": [
      "GridSearch score: 0.947074501840335\n",
      "Best Parameters: {'criterion': 'gini', 'max_depth': 1, 'n_estimators': 5}\n"
     ]
    },
    {
     "name": "stderr",
     "output_type": "stream",
     "text": [
      "[Parallel(n_jobs=4)]: Done 200 out of 200 | elapsed:    6.4s finished\n"
     ]
    }
   ],
   "source": [
    "rfc_params={\n",
    "    'n_estimators':[5,10,15,20],\n",
    "    'criterion':['gini','entropy'],\n",
    "    'max_depth':[1,2,3,4,None]}\n",
    "\n",
    "rfc_gridsearch = GridSearchCV(RandomForestClassifier(), rfc_params, verbose=1, cv=5, n_jobs=4)\n",
    "rfc_gridsearch.fit(X_train,y_train)\n",
    "\n",
    "print('GridSearch score:',rfc_gridsearch.best_score_)\n",
    "print('Best Parameters:', rfc_gridsearch.best_params_)"
   ]
  },
  {
   "cell_type": "code",
   "execution_count": 21,
   "metadata": {},
   "outputs": [
    {
     "name": "stdout",
     "output_type": "stream",
     "text": [
      "Baseline: 0.9475537787930707\n",
      "Random Forrest Score: 0.9337647506661592\n",
      "Cross Validation Score: 0.9307259634588458\n"
     ]
    },
    {
     "name": "stderr",
     "output_type": "stream",
     "text": [
      "[Parallel(n_jobs=1)]: Done   5 out of   5 | elapsed:    0.3s finished\n"
     ]
    }
   ],
   "source": [
    "# Random Forest Model\n",
    "\n",
    "rfc_wnv = RandomForestClassifier(max_depth=None,\n",
    "                                 n_estimators=10)\n",
    "rfc_wnv.fit(X_train,y_train)\n",
    "\n",
    "score_rfc_wnv = rfc_wnv.score(X_test,y_test)\n",
    "\n",
    "# using crossvalidation to check how accurate the model is\n",
    "cv_wnv = cross_val_score(rfc_wnv, X_test, y_test, cv=5, verbose=1).mean()\n",
    "\n",
    "print('Baseline:', baseline_accuracy)\n",
    "print('Random Forrest Score:', score_rfc_wnv)\n",
    "print('Cross Validation Score:', cv_wnv)"
   ]
  },
  {
   "cell_type": "code",
   "execution_count": 22,
   "metadata": {
    "scrolled": true
   },
   "outputs": [
    {
     "data": {
      "text/html": [
       "<div>\n",
       "<style scoped>\n",
       "    .dataframe tbody tr th:only-of-type {\n",
       "        vertical-align: middle;\n",
       "    }\n",
       "\n",
       "    .dataframe tbody tr th {\n",
       "        vertical-align: top;\n",
       "    }\n",
       "\n",
       "    .dataframe thead th {\n",
       "        text-align: right;\n",
       "    }\n",
       "</style>\n",
       "<table border=\"1\" class=\"dataframe\">\n",
       "  <thead>\n",
       "    <tr style=\"text-align: right;\">\n",
       "      <th>Predicted</th>\n",
       "      <th>0</th>\n",
       "      <th>1</th>\n",
       "      <th>All</th>\n",
       "    </tr>\n",
       "    <tr>\n",
       "      <th>Actual</th>\n",
       "      <th></th>\n",
       "      <th></th>\n",
       "      <th></th>\n",
       "    </tr>\n",
       "  </thead>\n",
       "  <tbody>\n",
       "    <tr>\n",
       "      <th>0</th>\n",
       "      <td>2440</td>\n",
       "      <td>53</td>\n",
       "      <td>2493</td>\n",
       "    </tr>\n",
       "    <tr>\n",
       "      <th>1</th>\n",
       "      <td>121</td>\n",
       "      <td>13</td>\n",
       "      <td>134</td>\n",
       "    </tr>\n",
       "    <tr>\n",
       "      <th>All</th>\n",
       "      <td>2561</td>\n",
       "      <td>66</td>\n",
       "      <td>2627</td>\n",
       "    </tr>\n",
       "  </tbody>\n",
       "</table>\n",
       "</div>"
      ],
      "text/plain": [
       "Predicted     0   1   All\n",
       "Actual                   \n",
       "0          2440  53  2493\n",
       "1           121  13   134\n",
       "All        2561  66  2627"
      ]
     },
     "execution_count": 22,
     "metadata": {},
     "output_type": "execute_result"
    }
   ],
   "source": [
    "y_preds = rfc_wnv.predict(X_test)\n",
    "\n",
    "rfc_df_confusion = pd.crosstab(y_test, y_preds, rownames=['Actual'], colnames=['Predicted'], margins=True)\n",
    "rfc_df_confusion"
   ]
  },
  {
   "cell_type": "code",
   "execution_count": 74,
   "metadata": {},
   "outputs": [
    {
     "data": {
      "text/plain": [
       "array([0.98333333, 0.01666667])"
      ]
     },
     "execution_count": 74,
     "metadata": {},
     "output_type": "execute_result"
    }
   ],
   "source": [
    "rfc_wnv.predict_proba(X_test)"
   ]
  },
  {
   "cell_type": "code",
   "execution_count": null,
   "metadata": {},
   "outputs": [],
   "source": []
  },
  {
   "cell_type": "markdown",
   "metadata": {},
   "source": [
    "#### Building a Keras NN"
   ]
  },
  {
   "cell_type": "code",
   "execution_count": 23,
   "metadata": {},
   "outputs": [],
   "source": [
    "y_train = y_train.reshape(-1,1)"
   ]
  },
  {
   "cell_type": "code",
   "execution_count": 24,
   "metadata": {},
   "outputs": [],
   "source": [
    "y_train = to_categorical(y_train)\n",
    "y_test = to_categorical(y_test)"
   ]
  },
  {
   "cell_type": "code",
   "execution_count": 25,
   "metadata": {},
   "outputs": [
    {
     "data": {
      "text/plain": [
       "(7879, 2)"
      ]
     },
     "execution_count": 25,
     "metadata": {},
     "output_type": "execute_result"
    }
   ],
   "source": [
    "y_train.shape"
   ]
  },
  {
   "cell_type": "code",
   "execution_count": 26,
   "metadata": {},
   "outputs": [],
   "source": [
    "model_1 = Sequential()\n",
    "\n",
    "n_input = X_train.shape[1]\n",
    "n_hidden = n_input\n",
    "n_output = y_train.shape[1]\n",
    "\n",
    "model_1.add(Dense(n_hidden,\n",
    "                  input_dim= n_input,\n",
    "                  activation='relu'))\n",
    "model_1.add(Dropout(.2))\n",
    "\n",
    "model_1.add(Dense(n_output,\n",
    "                  activation='softmax'))\n",
    "\n",
    "model_1.compile(loss='categorical_crossentropy',\n",
    "                optimizer='adam',\n",
    "                metrics=['accuracy'])"
   ]
  },
  {
   "cell_type": "code",
   "execution_count": 27,
   "metadata": {},
   "outputs": [
    {
     "name": "stdout",
     "output_type": "stream",
     "text": [
      "Train on 7879 samples, validate on 2627 samples\n",
      "Epoch 1/5\n",
      "7879/7879 [==============================] - 1s 158us/step - loss: 0.1975 - acc: 0.9447 - val_loss: 0.1740 - val_acc: 0.9490\n",
      "Epoch 2/5\n",
      "7879/7879 [==============================] - 1s 90us/step - loss: 0.1673 - acc: 0.9471 - val_loss: 0.1712 - val_acc: 0.9490\n",
      "Epoch 3/5\n",
      "7879/7879 [==============================] - 1s 96us/step - loss: 0.1615 - acc: 0.9473 - val_loss: 0.1741 - val_acc: 0.9490\n",
      "Epoch 4/5\n",
      "7879/7879 [==============================] - 1s 92us/step - loss: 0.1568 - acc: 0.9472 - val_loss: 0.1763 - val_acc: 0.9463\n",
      "Epoch 5/5\n",
      "7879/7879 [==============================] - 1s 90us/step - loss: 0.1525 - acc: 0.9468 - val_loss: 0.1758 - val_acc: 0.9482\n"
     ]
    }
   ],
   "source": [
    "hist_1 = model_1.fit(X_train,y_train,\n",
    "                 validation_data=(X_test,y_test),\n",
    "                 epochs=5,\n",
    "                 verbose=1)"
   ]
  },
  {
   "cell_type": "code",
   "execution_count": 28,
   "metadata": {},
   "outputs": [
    {
     "data": {
      "text/plain": [
       "<matplotlib.legend.Legend at 0x122bf3a90>"
      ]
     },
     "execution_count": 28,
     "metadata": {},
     "output_type": "execute_result"
    },
    {
     "data": {
      "image/png": "[encoded data removed]",
      "text/plain": [
       "<matplotlib.figure.Figure at 0x122db7fd0>"
      ]
     },
     "metadata": {},
     "output_type": "display_data"
    }
   ],
   "source": [
    "plt.plot(hist_1.history['loss'], label='Training loss')\n",
    "plt.plot(hist_1.history['val_loss'], label='Test loss')\n",
    "plt.legend()"
   ]
  },
  {
   "cell_type": "code",
   "execution_count": 29,
   "metadata": {},
   "outputs": [
    {
     "data": {
      "text/plain": [
       "[<matplotlib.lines.Line2D at 0x122ca5278>]"
      ]
     },
     "execution_count": 29,
     "metadata": {},
     "output_type": "execute_result"
    },
    {
     "data": {
      "image/png": "[encoded data removed]",
      "text/plain": [
       "<matplotlib.figure.Figure at 0x11f922ac8>"
      ]
     },
     "metadata": {},
     "output_type": "display_data"
    }
   ],
   "source": [
    "plt.plot(hist_1.history['val_acc'])"
   ]
  },
  {
   "cell_type": "code",
   "execution_count": 30,
   "metadata": {},
   "outputs": [
    {
     "data": {
      "text/html": [
       "<div>\n",
       "<style scoped>\n",
       "    .dataframe tbody tr th:only-of-type {\n",
       "        vertical-align: middle;\n",
       "    }\n",
       "\n",
       "    .dataframe tbody tr th {\n",
       "        vertical-align: top;\n",
       "    }\n",
       "\n",
       "    .dataframe thead th {\n",
       "        text-align: right;\n",
       "    }\n",
       "</style>\n",
       "<table border=\"1\" class=\"dataframe\">\n",
       "  <thead>\n",
       "    <tr style=\"text-align: right;\">\n",
       "      <th>Predicted</th>\n",
       "      <th>0</th>\n",
       "      <th>1</th>\n",
       "      <th>All</th>\n",
       "    </tr>\n",
       "    <tr>\n",
       "      <th>Actual</th>\n",
       "      <th></th>\n",
       "      <th></th>\n",
       "      <th></th>\n",
       "    </tr>\n",
       "  </thead>\n",
       "  <tbody>\n",
       "    <tr>\n",
       "      <th>0</th>\n",
       "      <td>2491</td>\n",
       "      <td>2</td>\n",
       "      <td>2493</td>\n",
       "    </tr>\n",
       "    <tr>\n",
       "      <th>1</th>\n",
       "      <td>134</td>\n",
       "      <td>0</td>\n",
       "      <td>134</td>\n",
       "    </tr>\n",
       "    <tr>\n",
       "      <th>All</th>\n",
       "      <td>2625</td>\n",
       "      <td>2</td>\n",
       "      <td>2627</td>\n",
       "    </tr>\n",
       "  </tbody>\n",
       "</table>\n",
       "</div>"
      ],
      "text/plain": [
       "Predicted     0  1   All\n",
       "Actual                  \n",
       "0          2491  2  2493\n",
       "1           134  0   134\n",
       "All        2625  2  2627"
      ]
     },
     "execution_count": 30,
     "metadata": {},
     "output_type": "execute_result"
    }
   ],
   "source": [
    "pred_list = model_1.predict_classes(X_test)\n",
    "\n",
    "actual_list = []\n",
    "for each in y_test:\n",
    "    actual_list.append(np.argmax(each))\n",
    "    \n",
    "actual_list = pd.Series(actual_list, name='Actual')\n",
    "pred_list = pd.Series(pred_list, name='Predicted')\n",
    "keras_confusion = pd.crosstab(actual_list, pred_list, rownames=['Actual'], colnames=['Predicted'], margins=True)\n",
    "keras_confusion"
   ]
  },
  {
   "cell_type": "code",
   "execution_count": 33,
   "metadata": {},
   "outputs": [],
   "source": [
    "wnv_test.drop('Unnamed: 0', axis=1, inplace=True)"
   ]
  },
  {
   "cell_type": "code",
   "execution_count": 32,
   "metadata": {},
   "outputs": [],
   "source": [
    "spec_t = pd.get_dummies(wnv_test['Species'])\n",
    "trap_t = pd.get_dummies(wnv_test['Trap'])\n",
    "heat_t = pd.get_dummies(wnv_test['HeatMonthAvg'])\n",
    "cool_t = pd.get_dummies(wnv_test['CoolMonthAvg'])\n",
    "precip_t = pd.get_dummies(wnv_test['PrecipMonthAvg'])\n",
    "wetbulb_t = pd.get_dummies(wnv_test['WetBulbMonthAvg'])\n",
    "dewpoint_t = pd.get_dummies(wnv_test['DewPointMonthAvg'])\n",
    "\n",
    "test = pd.concat([precip_t, spec_t, trap_t, heat_t, cool_t, wetbulb_t, dewpoint_t], axis=1)\n",
    "\n"
   ]
  },
  {
   "cell_type": "code",
   "execution_count": 35,
   "metadata": {},
   "outputs": [
    {
     "data": {
      "text/html": [
       "<div>\n",
       "<style scoped>\n",
       "    .dataframe tbody tr th:only-of-type {\n",
       "        vertical-align: middle;\n",
       "    }\n",
       "\n",
       "    .dataframe tbody tr th {\n",
       "        vertical-align: top;\n",
       "    }\n",
       "\n",
       "    .dataframe thead th {\n",
       "        text-align: right;\n",
       "    }\n",
       "</style>\n",
       "<table border=\"1\" class=\"dataframe\">\n",
       "  <thead>\n",
       "    <tr style=\"text-align: right;\">\n",
       "      <th></th>\n",
       "      <th>0.0333</th>\n",
       "      <th>0.0518</th>\n",
       "      <th>0.0605</th>\n",
       "      <th>0.0798</th>\n",
       "      <th>0.0869</th>\n",
       "      <th>0.0979</th>\n",
       "      <th>0.10300000000000001</th>\n",
       "      <th>0.1033</th>\n",
       "      <th>0.12300000000000001</th>\n",
       "      <th>0.124</th>\n",
       "      <th>...</th>\n",
       "      <th>52.0</th>\n",
       "      <th>53.0</th>\n",
       "      <th>54.0</th>\n",
       "      <th>56.0</th>\n",
       "      <th>57.0</th>\n",
       "      <th>58.0</th>\n",
       "      <th>59.0</th>\n",
       "      <th>61.0</th>\n",
       "      <th>62.0</th>\n",
       "      <th>64.0</th>\n",
       "    </tr>\n",
       "  </thead>\n",
       "  <tbody>\n",
       "    <tr>\n",
       "      <th>0</th>\n",
       "      <td>0</td>\n",
       "      <td>0</td>\n",
       "      <td>0</td>\n",
       "      <td>0</td>\n",
       "      <td>0</td>\n",
       "      <td>0</td>\n",
       "      <td>0</td>\n",
       "      <td>0</td>\n",
       "      <td>0</td>\n",
       "      <td>0</td>\n",
       "      <td>...</td>\n",
       "      <td>0</td>\n",
       "      <td>0</td>\n",
       "      <td>0</td>\n",
       "      <td>0</td>\n",
       "      <td>1</td>\n",
       "      <td>0</td>\n",
       "      <td>0</td>\n",
       "      <td>0</td>\n",
       "      <td>0</td>\n",
       "      <td>0</td>\n",
       "    </tr>\n",
       "    <tr>\n",
       "      <th>1</th>\n",
       "      <td>0</td>\n",
       "      <td>0</td>\n",
       "      <td>0</td>\n",
       "      <td>0</td>\n",
       "      <td>0</td>\n",
       "      <td>0</td>\n",
       "      <td>0</td>\n",
       "      <td>0</td>\n",
       "      <td>0</td>\n",
       "      <td>0</td>\n",
       "      <td>...</td>\n",
       "      <td>0</td>\n",
       "      <td>0</td>\n",
       "      <td>0</td>\n",
       "      <td>0</td>\n",
       "      <td>1</td>\n",
       "      <td>0</td>\n",
       "      <td>0</td>\n",
       "      <td>0</td>\n",
       "      <td>0</td>\n",
       "      <td>0</td>\n",
       "    </tr>\n",
       "    <tr>\n",
       "      <th>2</th>\n",
       "      <td>0</td>\n",
       "      <td>0</td>\n",
       "      <td>0</td>\n",
       "      <td>0</td>\n",
       "      <td>0</td>\n",
       "      <td>0</td>\n",
       "      <td>0</td>\n",
       "      <td>0</td>\n",
       "      <td>0</td>\n",
       "      <td>0</td>\n",
       "      <td>...</td>\n",
       "      <td>0</td>\n",
       "      <td>0</td>\n",
       "      <td>0</td>\n",
       "      <td>0</td>\n",
       "      <td>1</td>\n",
       "      <td>0</td>\n",
       "      <td>0</td>\n",
       "      <td>0</td>\n",
       "      <td>0</td>\n",
       "      <td>0</td>\n",
       "    </tr>\n",
       "    <tr>\n",
       "      <th>3</th>\n",
       "      <td>0</td>\n",
       "      <td>0</td>\n",
       "      <td>0</td>\n",
       "      <td>0</td>\n",
       "      <td>0</td>\n",
       "      <td>0</td>\n",
       "      <td>0</td>\n",
       "      <td>0</td>\n",
       "      <td>0</td>\n",
       "      <td>0</td>\n",
       "      <td>...</td>\n",
       "      <td>0</td>\n",
       "      <td>0</td>\n",
       "      <td>0</td>\n",
       "      <td>0</td>\n",
       "      <td>1</td>\n",
       "      <td>0</td>\n",
       "      <td>0</td>\n",
       "      <td>0</td>\n",
       "      <td>0</td>\n",
       "      <td>0</td>\n",
       "    </tr>\n",
       "    <tr>\n",
       "      <th>4</th>\n",
       "      <td>0</td>\n",
       "      <td>0</td>\n",
       "      <td>0</td>\n",
       "      <td>0</td>\n",
       "      <td>0</td>\n",
       "      <td>0</td>\n",
       "      <td>0</td>\n",
       "      <td>0</td>\n",
       "      <td>0</td>\n",
       "      <td>0</td>\n",
       "      <td>...</td>\n",
       "      <td>0</td>\n",
       "      <td>0</td>\n",
       "      <td>0</td>\n",
       "      <td>0</td>\n",
       "      <td>1</td>\n",
       "      <td>0</td>\n",
       "      <td>0</td>\n",
       "      <td>0</td>\n",
       "      <td>0</td>\n",
       "      <td>0</td>\n",
       "    </tr>\n",
       "  </tbody>\n",
       "</table>\n",
       "<p>5 rows × 219 columns</p>\n",
       "</div>"
      ],
      "text/plain": [
       "   0.0333   0.0518   0.0605   0.0798   0.0869   0.0979   0.1030   0.1033   \\\n",
       "0        0        0        0        0        0        0        0        0   \n",
       "1        0        0        0        0        0        0        0        0   \n",
       "2        0        0        0        0        0        0        0        0   \n",
       "3        0        0        0        0        0        0        0        0   \n",
       "4        0        0        0        0        0        0        0        0   \n",
       "\n",
       "   0.1230   0.1240    ...     52.0000  53.0000  54.0000  56.0000  57.0000  \\\n",
       "0        0        0   ...           0        0        0        0        1   \n",
       "1        0        0   ...           0        0        0        0        1   \n",
       "2        0        0   ...           0        0        0        0        1   \n",
       "3        0        0   ...           0        0        0        0        1   \n",
       "4        0        0   ...           0        0        0        0        1   \n",
       "\n",
       "   58.0000  59.0000  61.0000  62.0000  64.0000  \n",
       "0        0        0        0        0        0  \n",
       "1        0        0        0        0        0  \n",
       "2        0        0        0        0        0  \n",
       "3        0        0        0        0        0  \n",
       "4        0        0        0        0        0  \n",
       "\n",
       "[5 rows x 219 columns]"
      ]
     },
     "execution_count": 35,
     "metadata": {},
     "output_type": "execute_result"
    }
   ],
   "source": [
    "test.head()"
   ]
  },
  {
   "cell_type": "code",
   "execution_count": 40,
   "metadata": {},
   "outputs": [
    {
     "name": "stdout",
     "output_type": "stream",
     "text": [
      "Index([             0.0333,              0.0518,              0.0605,\n",
      "                    0.0798,              0.0869,              0.0979,\n",
      "       0.10300000000000001,              0.1033, 0.12300000000000001,\n",
      "                     0.124,\n",
      "       ...\n",
      "                        52,                  53,                  54,\n",
      "                        56,                  57,                  58,\n",
      "                        59,                  61,                  62,\n",
      "                        64],\n",
      "      dtype='object', length=219)\n"
     ]
    }
   ],
   "source": []
  }
 ],
 "metadata": {
  "kernelspec": {
   "display_name": "Python [conda env:tensorflow]",
   "language": "python",
   "name": "conda-env-tensorflow-py"
  },
  "language_info": {
   "codemirror_mode": {
    "name": "ipython",
    "version": 3
   },
   "file_extension": ".py",
   "mimetype": "text/x-python",
   "name": "python",
   "nbconvert_exporter": "python",
   "pygments_lexer": "ipython3",
   "version": "3.6.4"
  }
 },
 "nbformat": 4,
 "nbformat_minor": 2
}
