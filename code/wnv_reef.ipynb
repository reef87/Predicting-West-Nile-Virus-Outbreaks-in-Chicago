{
 "cells": [
  {
   "cell_type": "code",
   "execution_count": 1,
   "metadata": {},
   "outputs": [
    {
     "name": "stderr",
     "output_type": "stream",
     "text": [
      "Using TensorFlow backend.\n"
     ]
    }
   ],
   "source": [
    "import pandas as pd\n",
    "import matplotlib.pyplot as plt\n",
    "import seaborn as sns\n",
    "import numpy as np\n",
    "from sklearn.model_selection import train_test_split, GridSearchCV, cross_val_score, cross_validate\n",
    "from sklearn.ensemble import RandomForestClassifier, AdaBoostClassifier\n",
    "from sklearn.metrics import accuracy_score, confusion_matrix, classification_report\n",
    "from sklearn.neighbors import KNeighborsClassifier\n",
    "import tensorflow as tf\n",
    "import keras\n",
    "\n",
    "from keras.models import Sequential\n",
    "from keras.layers import Dense, Dropout, Activation, Flatten\n",
    "from keras.layers import Convolution1D, MaxPooling1D\n",
    "from keras.utils import to_categorical\n",
    "from keras import regularizers\n",
    "from keras.layers import Dropout\n",
    "from keras.callbacks import EarlyStopping\n",
    "from keras import optimizers\n",
    "\n",
    "%matplotlib inline"
   ]
  },
  {
   "cell_type": "code",
   "execution_count": 53,
   "metadata": {},
   "outputs": [],
   "source": [
    "train = pd.read_csv('../assets/train.csv')\n",
    "test = pd.read_csv('../assets/test.csv')\n",
    "weather = pd.read_csv('../assets/weather.csv')\n",
    "spray = pd.read_csv('../assets/spray.csv')\n",
    "wnv_train = pd.read_csv('../output/train_spray_weather.csv')\n",
    "wnv_test = pd.read_csv('../output/test_spray_weather.csv')\n",
    "wnv_trainall = pd.read_csv('../output/train_all.csv')"
   ]
  },
  {
   "cell_type": "code",
   "execution_count": 54,
   "metadata": {},
   "outputs": [
    {
     "data": {
      "text/html": [
       "<div>\n",
       "<style scoped>\n",
       "    .dataframe tbody tr th:only-of-type {\n",
       "        vertical-align: middle;\n",
       "    }\n",
       "\n",
       "    .dataframe tbody tr th {\n",
       "        vertical-align: top;\n",
       "    }\n",
       "\n",
       "    .dataframe thead th {\n",
       "        text-align: right;\n",
       "    }\n",
       "</style>\n",
       "<table border=\"1\" class=\"dataframe\">\n",
       "  <thead>\n",
       "    <tr style=\"text-align: right;\">\n",
       "      <th></th>\n",
       "      <th>Date</th>\n",
       "      <th>Address</th>\n",
       "      <th>Species</th>\n",
       "      <th>Block</th>\n",
       "      <th>Street</th>\n",
       "      <th>Trap</th>\n",
       "      <th>AddressNumberAndStreet</th>\n",
       "      <th>Latitude</th>\n",
       "      <th>Longitude</th>\n",
       "      <th>AddressAccuracy</th>\n",
       "      <th>...</th>\n",
       "      <th>HeatMonthAvg</th>\n",
       "      <th>CoolMonthAvg</th>\n",
       "      <th>PrecipMonthAvg</th>\n",
       "      <th>WetBulbMonthAvg</th>\n",
       "      <th>DewPointMonthAvg</th>\n",
       "      <th>DewPoint</th>\n",
       "      <th>WetBulb</th>\n",
       "      <th>Heat</th>\n",
       "      <th>Cool</th>\n",
       "      <th>PrecipTotal</th>\n",
       "    </tr>\n",
       "  </thead>\n",
       "  <tbody>\n",
       "    <tr>\n",
       "      <th>0</th>\n",
       "      <td>2007-05-29</td>\n",
       "      <td>4100 North Oak Park Avenue, Chicago, IL 60634,...</td>\n",
       "      <td>CULEX PIPIENS/RESTUANS</td>\n",
       "      <td>41</td>\n",
       "      <td>N OAK PARK AVE</td>\n",
       "      <td>T002</td>\n",
       "      <td>4100  N OAK PARK AVE, Chicago, IL</td>\n",
       "      <td>41.954690</td>\n",
       "      <td>-87.800991</td>\n",
       "      <td>9</td>\n",
       "      <td>...</td>\n",
       "      <td>3</td>\n",
       "      <td>3</td>\n",
       "      <td>0.0636</td>\n",
       "      <td>55</td>\n",
       "      <td>46</td>\n",
       "      <td>58</td>\n",
       "      <td>65</td>\n",
       "      <td>0</td>\n",
       "      <td>9</td>\n",
       "      <td>0.0</td>\n",
       "    </tr>\n",
       "    <tr>\n",
       "      <th>1</th>\n",
       "      <td>2007-05-29</td>\n",
       "      <td>4100 North Oak Park Avenue, Chicago, IL 60634,...</td>\n",
       "      <td>CULEX RESTUANS</td>\n",
       "      <td>41</td>\n",
       "      <td>N OAK PARK AVE</td>\n",
       "      <td>T002</td>\n",
       "      <td>4100  N OAK PARK AVE, Chicago, IL</td>\n",
       "      <td>41.954690</td>\n",
       "      <td>-87.800991</td>\n",
       "      <td>9</td>\n",
       "      <td>...</td>\n",
       "      <td>3</td>\n",
       "      <td>3</td>\n",
       "      <td>0.0636</td>\n",
       "      <td>55</td>\n",
       "      <td>46</td>\n",
       "      <td>58</td>\n",
       "      <td>65</td>\n",
       "      <td>0</td>\n",
       "      <td>9</td>\n",
       "      <td>0.0</td>\n",
       "    </tr>\n",
       "    <tr>\n",
       "      <th>2</th>\n",
       "      <td>2007-05-29</td>\n",
       "      <td>6200 North Mandell Avenue, Chicago, IL 60646, USA</td>\n",
       "      <td>CULEX RESTUANS</td>\n",
       "      <td>62</td>\n",
       "      <td>N MANDELL AVE</td>\n",
       "      <td>T007</td>\n",
       "      <td>6200  N MANDELL AVE, Chicago, IL</td>\n",
       "      <td>41.994991</td>\n",
       "      <td>-87.769279</td>\n",
       "      <td>9</td>\n",
       "      <td>...</td>\n",
       "      <td>3</td>\n",
       "      <td>3</td>\n",
       "      <td>0.0636</td>\n",
       "      <td>55</td>\n",
       "      <td>46</td>\n",
       "      <td>58</td>\n",
       "      <td>65</td>\n",
       "      <td>0</td>\n",
       "      <td>9</td>\n",
       "      <td>0.0</td>\n",
       "    </tr>\n",
       "    <tr>\n",
       "      <th>3</th>\n",
       "      <td>2007-05-29</td>\n",
       "      <td>7900 West Foster Avenue, Chicago, IL 60656, USA</td>\n",
       "      <td>CULEX PIPIENS/RESTUANS</td>\n",
       "      <td>79</td>\n",
       "      <td>W FOSTER AVE</td>\n",
       "      <td>T015</td>\n",
       "      <td>7900  W FOSTER AVE, Chicago, IL</td>\n",
       "      <td>41.974089</td>\n",
       "      <td>-87.824812</td>\n",
       "      <td>8</td>\n",
       "      <td>...</td>\n",
       "      <td>3</td>\n",
       "      <td>3</td>\n",
       "      <td>0.0636</td>\n",
       "      <td>55</td>\n",
       "      <td>46</td>\n",
       "      <td>58</td>\n",
       "      <td>65</td>\n",
       "      <td>0</td>\n",
       "      <td>9</td>\n",
       "      <td>0.0</td>\n",
       "    </tr>\n",
       "    <tr>\n",
       "      <th>4</th>\n",
       "      <td>2007-05-29</td>\n",
       "      <td>7900 West Foster Avenue, Chicago, IL 60656, USA</td>\n",
       "      <td>CULEX RESTUANS</td>\n",
       "      <td>79</td>\n",
       "      <td>W FOSTER AVE</td>\n",
       "      <td>T015</td>\n",
       "      <td>7900  W FOSTER AVE, Chicago, IL</td>\n",
       "      <td>41.974089</td>\n",
       "      <td>-87.824812</td>\n",
       "      <td>8</td>\n",
       "      <td>...</td>\n",
       "      <td>3</td>\n",
       "      <td>3</td>\n",
       "      <td>0.0636</td>\n",
       "      <td>55</td>\n",
       "      <td>46</td>\n",
       "      <td>58</td>\n",
       "      <td>65</td>\n",
       "      <td>0</td>\n",
       "      <td>9</td>\n",
       "      <td>0.0</td>\n",
       "    </tr>\n",
       "  </tbody>\n",
       "</table>\n",
       "<p>5 rows × 29 columns</p>\n",
       "</div>"
      ],
      "text/plain": [
       "         Date                                            Address  \\\n",
       "0  2007-05-29  4100 North Oak Park Avenue, Chicago, IL 60634,...   \n",
       "1  2007-05-29  4100 North Oak Park Avenue, Chicago, IL 60634,...   \n",
       "2  2007-05-29  6200 North Mandell Avenue, Chicago, IL 60646, USA   \n",
       "3  2007-05-29    7900 West Foster Avenue, Chicago, IL 60656, USA   \n",
       "4  2007-05-29    7900 West Foster Avenue, Chicago, IL 60656, USA   \n",
       "\n",
       "                  Species  Block           Street  Trap  \\\n",
       "0  CULEX PIPIENS/RESTUANS     41   N OAK PARK AVE  T002   \n",
       "1          CULEX RESTUANS     41   N OAK PARK AVE  T002   \n",
       "2          CULEX RESTUANS     62    N MANDELL AVE  T007   \n",
       "3  CULEX PIPIENS/RESTUANS     79     W FOSTER AVE  T015   \n",
       "4          CULEX RESTUANS     79     W FOSTER AVE  T015   \n",
       "\n",
       "              AddressNumberAndStreet   Latitude  Longitude  AddressAccuracy  \\\n",
       "0  4100  N OAK PARK AVE, Chicago, IL  41.954690 -87.800991                9   \n",
       "1  4100  N OAK PARK AVE, Chicago, IL  41.954690 -87.800991                9   \n",
       "2   6200  N MANDELL AVE, Chicago, IL  41.994991 -87.769279                9   \n",
       "3    7900  W FOSTER AVE, Chicago, IL  41.974089 -87.824812                8   \n",
       "4    7900  W FOSTER AVE, Chicago, IL  41.974089 -87.824812                8   \n",
       "\n",
       "      ...       HeatMonthAvg  CoolMonthAvg  PrecipMonthAvg  WetBulbMonthAvg  \\\n",
       "0     ...                  3             3          0.0636               55   \n",
       "1     ...                  3             3          0.0636               55   \n",
       "2     ...                  3             3          0.0636               55   \n",
       "3     ...                  3             3          0.0636               55   \n",
       "4     ...                  3             3          0.0636               55   \n",
       "\n",
       "   DewPointMonthAvg DewPoint  WetBulb  Heat  Cool  PrecipTotal  \n",
       "0                46       58       65     0     9          0.0  \n",
       "1                46       58       65     0     9          0.0  \n",
       "2                46       58       65     0     9          0.0  \n",
       "3                46       58       65     0     9          0.0  \n",
       "4                46       58       65     0     9          0.0  \n",
       "\n",
       "[5 rows x 29 columns]"
      ]
     },
     "execution_count": 54,
     "metadata": {},
     "output_type": "execute_result"
    }
   ],
   "source": [
    "wnv_trainall.head()"
   ]
  },
  {
   "cell_type": "code",
   "execution_count": 55,
   "metadata": {},
   "outputs": [
    {
     "data": {
      "text/plain": [
       "(10506, 26)"
      ]
     },
     "execution_count": 55,
     "metadata": {},
     "output_type": "execute_result"
    }
   ],
   "source": [
    "wnv_train.shape"
   ]
  },
  {
   "cell_type": "code",
   "execution_count": 7,
   "metadata": {},
   "outputs": [
    {
     "data": {
      "text/plain": [
       "0    9955\n",
       "1     551\n",
       "Name: WnvPresent, dtype: int64"
      ]
     },
     "execution_count": 7,
     "metadata": {},
     "output_type": "execute_result"
    }
   ],
   "source": [
    "wnv_train['WnvPresent'].value_counts()"
   ]
  },
  {
   "cell_type": "code",
   "execution_count": 57,
   "metadata": {},
   "outputs": [
    {
     "data": {
      "text/plain": [
       "0.9475537787930707"
      ]
     },
     "execution_count": 57,
     "metadata": {},
     "output_type": "execute_result"
    }
   ],
   "source": [
    "# Establishing our baseline accuracy\n",
    "\n",
    "baseline_accuracy = wnv_train['WnvPresent'].value_counts()[0]/len(wnv_train['WnvPresent'])\n",
    "baseline_accuracy"
   ]
  },
  {
   "cell_type": "code",
   "execution_count": 59,
   "metadata": {},
   "outputs": [
    {
     "data": {
      "image/png": "[encoded data removed]",
      "text/plain": [
       "<matplotlib.figure.Figure at 0x122c86c50>"
      ]
     },
     "metadata": {},
     "output_type": "display_data"
    }
   ],
   "source": [
    "# correlation heatmap\n",
    "\n",
    "mean_corr = wnv_train.corr()\n",
    "\n",
    "fig, ax = plt.subplots(figsize=(9,7))\n",
    "\n",
    "mask = np.zeros_like(mean_corr, dtype=np.bool)\n",
    "mask[np.triu_indices_from(mask)] = True\n",
    "\n",
    "ax = sns.heatmap(mean_corr, mask=mask, ax=ax)\n",
    "\n",
    "ax.set_xticklabels(ax.xaxis.get_ticklabels(), fontsize=14)\n",
    "ax.set_yticklabels(ax.yaxis.get_ticklabels(), fontsize=14)\n",
    "\n",
    "plt.show()"
   ]
  },
  {
   "cell_type": "code",
   "execution_count": 64,
   "metadata": {},
   "outputs": [],
   "source": [
    "from sklearn.preprocessing import LabelEncoder\n",
    "\n",
    "lbl = LabelEncoder()\n",
    "lbl.fit(list(wnv_train['Species'].values) + list(wnv_test['Species'].values))\n",
    "wnv_train['Species'] = lbl.transform(wnv_train['Species'].values)\n",
    "wnv_test['Species'] = lbl.transform(wnv_test['Species'].values)\n",
    "\n",
    "lbl.fit(list(wnv_train['Trap'].values) + list(wnv_test['Trap'].values))\n",
    "wnv_train['Trap'] = lbl.transform(wnv_train['Trap'].values)\n",
    "wnv_test['Trap'] = lbl.transform(wnv_test['Trap'].values)\n",
    "\n",
    "lbl.fit(list(wnv_train['HeatMonthAvg'].values) + list(wnv_test['HeatMonthAvg'].values))\n",
    "wnv_train['HeatMonthAvg'] = lbl.transform(wnv_train['HeatMonthAvg'].values)\n",
    "wnv_test['HeatMonthAvg'] = lbl.transform(wnv_test['HeatMonthAvg'].values)\n",
    "\n",
    "lbl.fit(list(wnv_train['CoolMonthAvg'].values) + list(wnv_test['CoolMonthAvg'].values))\n",
    "wnv_train['CoolMonthAvg'] = lbl.transform(wnv_train['CoolMonthAvg'].values)\n",
    "wnv_test['CoolMonthAvg'] = lbl.transform(wnv_test['CoolMonthAvg'].values)\n",
    "\n",
    "lbl.fit(list(wnv_train['PrecipMonthAvg'].values) + list(wnv_test['PrecipMonthAvg'].values))\n",
    "wnv_train['PrecipMonthAvg'] = lbl.transform(wnv_train['PrecipMonthAvg'].values)\n",
    "wnv_test['PrecipMonthAvg'] = lbl.transform(wnv_test['PrecipMonthAvg'].values)\n",
    "\n",
    "lbl.fit(list(wnv_train['WetBulbMonthAvg'].values) + list(wnv_test['WetBulbMonthAvg'].values))\n",
    "wnv_train['WetBulbMonthAvg'] = lbl.transform(wnv_train['WetBulbMonthAvg'].values)\n",
    "wnv_test['WetBulbMonthAvg'] = lbl.transform(wnv_test['WetBulbMonthAvg'].values)\n",
    "\n",
    "lbl.fit(list(wnv_train['DewPointMonthAvg'].values) + list(wnv_test['DewPointMonthAvg'].values))\n",
    "wnv_train['DewPointMonthAvg'] = lbl.transform(wnv_train['DewPointMonthAvg'].values)\n",
    "wnv_test['DewPointMonthAvg'] = lbl.transform(wnv_test['DewPointMonthAvg'].values)\n"
   ]
  },
  {
   "cell_type": "code",
   "execution_count": 61,
   "metadata": {},
   "outputs": [
    {
     "data": {
      "text/plain": [
       "Index(['Id', 'Date', 'Address', 'Species', 'Block', 'Street', 'Trap',\n",
       "       'AddressNumberAndStreet', 'Latitude', 'Longitude', 'AddressAccuracy',\n",
       "       'Year', 'Month', 'Day', 'Weather_Info', 'HeatMonthAvg', 'CoolMonthAvg',\n",
       "       'PrecipMonthAvg', 'WetBulbMonthAvg', 'DewPointMonthAvg'],\n",
       "      dtype='object')"
      ]
     },
     "execution_count": 61,
     "metadata": {},
     "output_type": "execute_result"
    }
   ],
   "source": [
    "wnv_test.columns"
   ]
  },
  {
   "cell_type": "code",
   "execution_count": 65,
   "metadata": {},
   "outputs": [],
   "source": [
    "X = wnv_train[['Species', 'Trap', 'HeatMonthAvg', \n",
    "              'CoolMonthAvg', 'PrecipMonthAvg', 'DewPointMonthAvg']]\n",
    "y = wnv_train['WnvPresent']\n",
    "\n",
    "X_train, X_test, y_train, y_test = train_test_split(X,y, random_state=42)"
   ]
  },
  {
   "cell_type": "code",
   "execution_count": 66,
   "metadata": {},
   "outputs": [
    {
     "name": "stdout",
     "output_type": "stream",
     "text": [
      "Fitting 5 folds for each of 40 candidates, totalling 200 fits\n",
      "GridSearch score: 0.947074501840335\n",
      "Best Parameters: {'criterion': 'gini', 'max_depth': 1, 'n_estimators': 5}\n"
     ]
    },
    {
     "name": "stderr",
     "output_type": "stream",
     "text": [
      "[Parallel(n_jobs=4)]: Done 200 out of 200 | elapsed:    3.7s finished\n"
     ]
    }
   ],
   "source": [
    "rfc_params={\n",
    "    'n_estimators':[5,10,15,20],\n",
    "    'criterion':['gini','entropy'],\n",
    "    'max_depth':[1,2,3,4,None]}\n",
    "\n",
    "rfc_gridsearch = GridSearchCV(RandomForestClassifier(), rfc_params, verbose=1, cv=5, n_jobs=4)\n",
    "rfc_gridsearch.fit(X_train,y_train)\n",
    "\n",
    "print('GridSearch score:',rfc_gridsearch.best_score_)\n",
    "print('Best Parameters:', rfc_gridsearch.best_params_)"
   ]
  },
  {
   "cell_type": "code",
   "execution_count": 67,
   "metadata": {},
   "outputs": [
    {
     "name": "stdout",
     "output_type": "stream",
     "text": [
      "Baseline: 0.9475537787930707\n",
      "Random Forrest Score: 0.9429006471259992\n",
      "Cross Validation Score: 0.9212108282781374\n"
     ]
    },
    {
     "name": "stderr",
     "output_type": "stream",
     "text": [
      "[Parallel(n_jobs=1)]: Done   5 out of   5 | elapsed:    0.1s finished\n"
     ]
    }
   ],
   "source": [
    "# Random Forest Model\n",
    "\n",
    "rfc_wnv = RandomForestClassifier(max_depth=None,\n",
    "                                 n_estimators=10)\n",
    "rfc_wnv.fit(X_train,y_train)\n",
    "\n",
    "score_rfc_wnv = rfc_wnv.score(X_test,y_test)\n",
    "\n",
    "# using crossvalidation to check how accurate the model is\n",
    "cv_wnv = cross_val_score(rfc_wnv, X_test, y_test, cv=5, verbose=1).mean()\n",
    "\n",
    "print('Baseline:', baseline_accuracy)\n",
    "print('Random Forrest Score:', score_rfc_wnv)\n",
    "print('Cross Validation Score:', cv_wnv)"
   ]
  },
  {
   "cell_type": "code",
   "execution_count": 68,
   "metadata": {
    "scrolled": true
   },
   "outputs": [
    {
     "data": {
      "text/html": [
       "<div>\n",
       "<style scoped>\n",
       "    .dataframe tbody tr th:only-of-type {\n",
       "        vertical-align: middle;\n",
       "    }\n",
       "\n",
       "    .dataframe tbody tr th {\n",
       "        vertical-align: top;\n",
       "    }\n",
       "\n",
       "    .dataframe thead th {\n",
       "        text-align: right;\n",
       "    }\n",
       "</style>\n",
       "<table border=\"1\" class=\"dataframe\">\n",
       "  <thead>\n",
       "    <tr style=\"text-align: right;\">\n",
       "      <th>Predicted</th>\n",
       "      <th>0</th>\n",
       "      <th>1</th>\n",
       "      <th>All</th>\n",
       "    </tr>\n",
       "    <tr>\n",
       "      <th>Actual</th>\n",
       "      <th></th>\n",
       "      <th></th>\n",
       "      <th></th>\n",
       "    </tr>\n",
       "  </thead>\n",
       "  <tbody>\n",
       "    <tr>\n",
       "      <th>0</th>\n",
       "      <td>2458</td>\n",
       "      <td>35</td>\n",
       "      <td>2493</td>\n",
       "    </tr>\n",
       "    <tr>\n",
       "      <th>1</th>\n",
       "      <td>115</td>\n",
       "      <td>19</td>\n",
       "      <td>134</td>\n",
       "    </tr>\n",
       "    <tr>\n",
       "      <th>All</th>\n",
       "      <td>2573</td>\n",
       "      <td>54</td>\n",
       "      <td>2627</td>\n",
       "    </tr>\n",
       "  </tbody>\n",
       "</table>\n",
       "</div>"
      ],
      "text/plain": [
       "Predicted     0   1   All\n",
       "Actual                   \n",
       "0          2458  35  2493\n",
       "1           115  19   134\n",
       "All        2573  54  2627"
      ]
     },
     "execution_count": 68,
     "metadata": {},
     "output_type": "execute_result"
    }
   ],
   "source": [
    "y_preds = rfc_wnv.predict(X_test)\n",
    "\n",
    "rfc_df_confusion = pd.crosstab(y_test, y_preds, rownames=['Actual'], colnames=['Predicted'], margins=True)\n",
    "rfc_df_confusion"
   ]
  },
  {
   "cell_type": "code",
   "execution_count": 74,
   "metadata": {},
   "outputs": [
    {
     "data": {
      "text/plain": [
       "array([0.98333333, 0.01666667])"
      ]
     },
     "execution_count": 74,
     "metadata": {},
     "output_type": "execute_result"
    }
   ],
   "source": [
    "x = wnv_test[['Species', 'Trap', 'HeatMonthAvg', \n",
    "              'CoolMonthAvg', 'PrecipMonthAvg', 'DewPointMonthAvg']]\n",
    "\n"
   ]
  },
  {
   "cell_type": "code",
   "execution_count": 69,
   "metadata": {
    "scrolled": true
   },
   "outputs": [
    {
     "data": {
      "text/plain": [
       "0         0.034286\n",
       "1         0.000000\n",
       "2         0.000000\n",
       "3         0.000000\n",
       "4         0.000000\n",
       "5         0.000000\n",
       "6         0.000000\n",
       "7         0.000000\n",
       "8         0.000000\n",
       "9         0.000000\n",
       "10        0.000000\n",
       "11        0.000000\n",
       "12        0.000000\n",
       "13        0.000000\n",
       "14        0.000000\n",
       "15        0.000000\n",
       "16        0.000000\n",
       "17        0.000000\n",
       "18        0.000000\n",
       "19        0.000000\n",
       "20        0.000000\n",
       "21        0.000000\n",
       "22        0.000000\n",
       "23        0.000000\n",
       "24        0.000000\n",
       "25        0.000000\n",
       "26        0.000000\n",
       "27        0.000000\n",
       "28        0.000000\n",
       "29        0.000000\n",
       "            ...   \n",
       "116263    0.000000\n",
       "116264    0.000000\n",
       "116265    0.000000\n",
       "116266    0.000000\n",
       "116267    0.000000\n",
       "116268    0.000000\n",
       "116269    0.000000\n",
       "116270    0.000000\n",
       "116271    0.000000\n",
       "116272    0.000000\n",
       "116273    0.000000\n",
       "116274    0.000000\n",
       "116275    0.000000\n",
       "116276    0.000000\n",
       "116277    0.000000\n",
       "116278    0.000000\n",
       "116279    0.000000\n",
       "116280    0.000000\n",
       "116281    0.000000\n",
       "116282    0.000000\n",
       "116283    0.000000\n",
       "116284    0.000000\n",
       "116285    0.000000\n",
       "116286    0.000000\n",
       "116287    0.000000\n",
       "116288    0.000000\n",
       "116289    0.000000\n",
       "116290    0.000000\n",
       "116291    0.000000\n",
       "116292    0.000000\n",
       "Name: 1, Length: 116293, dtype: float64"
      ]
     },
     "execution_count": 69,
     "metadata": {},
     "output_type": "execute_result"
    }
   ],
   "source": [
    "pd.DataFrame(rfc_wnv.predict_proba(x))[1]"
   ]
  },
  {
   "cell_type": "markdown",
   "metadata": {},
   "source": [
    "### RFC with daily weather data"
   ]
  },
  {
   "cell_type": "code",
   "execution_count": 51,
   "metadata": {},
   "outputs": [],
   "source": [
    "lbl2 = LabelEncoder()\n",
    "lbl2.fit(list(wnv_trainall['Species'].values) + list(wnv_test['Species'].values))\n",
    "wnv_trainall['Species'] = lbl2.transform(wnv_trainall['Species'].values)\n",
    "wnv_test['Species'] = lbl2.transform(wnv_test['Species'].values)\n",
    "\n",
    "lbl2.fit(list(wnv_trainall['Trap'].values) + list(wnv_test['Trap'].values))\n",
    "wnv_trainall['Trap'] = lbl2.transform(wnv_trainall['Trap'].values)\n",
    "wnv_test['Trap'] = lbl2.transform(wnv_test['Trap'].values)\n"
   ]
  },
  {
   "cell_type": "code",
   "execution_count": null,
   "metadata": {},
   "outputs": [],
   "source": []
  },
  {
   "cell_type": "code",
   "execution_count": null,
   "metadata": {},
   "outputs": [],
   "source": []
  },
  {
   "cell_type": "code",
   "execution_count": null,
   "metadata": {},
   "outputs": [],
   "source": []
  },
  {
   "cell_type": "code",
   "execution_count": null,
   "metadata": {},
   "outputs": [],
   "source": []
  },
  {
   "cell_type": "code",
   "execution_count": null,
   "metadata": {},
   "outputs": [],
   "source": []
  },
  {
   "cell_type": "code",
   "execution_count": null,
   "metadata": {},
   "outputs": [],
   "source": []
  },
  {
   "cell_type": "markdown",
   "metadata": {},
   "source": [
    "#### Building a Keras NN"
   ]
  },
  {
   "cell_type": "code",
   "execution_count": 70,
   "metadata": {},
   "outputs": [
    {
     "name": "stderr",
     "output_type": "stream",
     "text": [
      "/Users/reef/anaconda3/envs/tensorflow/lib/python3.6/site-packages/ipykernel/__main__.py:1: FutureWarning: reshape is deprecated and will raise in a subsequent release. Please use .values.reshape(...) instead\n",
      "  if __name__ == '__main__':\n"
     ]
    }
   ],
   "source": [
    "y_train = y_train.reshape(-1,1)"
   ]
  },
  {
   "cell_type": "code",
   "execution_count": 71,
   "metadata": {},
   "outputs": [],
   "source": [
    "y_train = to_categorical(y_train)\n",
    "y_test = to_categorical(y_test)"
   ]
  },
  {
   "cell_type": "code",
   "execution_count": 72,
   "metadata": {},
   "outputs": [
    {
     "data": {
      "text/plain": [
       "(7879, 2)"
      ]
     },
     "execution_count": 72,
     "metadata": {},
     "output_type": "execute_result"
    }
   ],
   "source": [
    "y_train.shape"
   ]
  },
  {
   "cell_type": "code",
   "execution_count": 81,
   "metadata": {},
   "outputs": [],
   "source": [
    "model_1 = Sequential()\n",
    "\n",
    "n_input = X_train.shape[1]\n",
    "n_hidden = n_input\n",
    "n_output = y_train.shape[1]\n",
    "\n",
    "model_1.add(Dense(n_hidden,\n",
    "                  input_dim= n_input,\n",
    "                  activation='relu'))\n",
    "model_1.add(Dropout(.2))\n",
    "model_1.add(Dense(n_hidden,\n",
    "                  activation='relu'))            \n",
    "\n",
    "model_1.add(Dense(n_output,\n",
    "                  activation='softmax'))\n",
    "\n",
    "model_1.compile(loss='categorical_crossentropy',\n",
    "                optimizer='adam',\n",
    "                metrics=['accuracy'])"
   ]
  },
  {
   "cell_type": "code",
   "execution_count": 82,
   "metadata": {},
   "outputs": [
    {
     "name": "stdout",
     "output_type": "stream",
     "text": [
      "Train on 7879 samples, validate on 2627 samples\n",
      "Epoch 1/20\n",
      "7879/7879 [==============================] - 1s 154us/step - loss: 0.4923 - acc: 0.9134 - val_loss: 0.2622 - val_acc: 0.9490\n",
      "Epoch 2/20\n",
      "7879/7879 [==============================] - 1s 71us/step - loss: 0.2772 - acc: 0.9464 - val_loss: 0.2312 - val_acc: 0.9490\n",
      "Epoch 3/20\n",
      "7879/7879 [==============================] - 1s 75us/step - loss: 0.2415 - acc: 0.9471 - val_loss: 0.2230 - val_acc: 0.9490\n",
      "Epoch 4/20\n",
      "7879/7879 [==============================] - 1s 75us/step - loss: 0.2343 - acc: 0.9471 - val_loss: 0.2182 - val_acc: 0.9490\n",
      "Epoch 5/20\n",
      "7879/7879 [==============================] - 1s 76us/step - loss: 0.2267 - acc: 0.9471 - val_loss: 0.2131 - val_acc: 0.9490\n",
      "Epoch 6/20\n",
      "7879/7879 [==============================] - 1s 76us/step - loss: 0.2255 - acc: 0.9471 - val_loss: 0.2122 - val_acc: 0.9490\n",
      "Epoch 7/20\n",
      "7879/7879 [==============================] - 1s 70us/step - loss: 0.2191 - acc: 0.9471 - val_loss: 0.2127 - val_acc: 0.9490\n",
      "Epoch 8/20\n",
      "7879/7879 [==============================] - 1s 72us/step - loss: 0.2187 - acc: 0.9471 - val_loss: 0.2067 - val_acc: 0.9490\n",
      "Epoch 9/20\n",
      "7879/7879 [==============================] - 1s 72us/step - loss: 0.2151 - acc: 0.9471 - val_loss: 0.2093 - val_acc: 0.9490\n",
      "Epoch 10/20\n",
      "7879/7879 [==============================] - 1s 78us/step - loss: 0.2153 - acc: 0.9471 - val_loss: 0.2053 - val_acc: 0.9490\n",
      "Epoch 11/20\n",
      "7879/7879 [==============================] - 1s 77us/step - loss: 0.2139 - acc: 0.9471 - val_loss: 0.2066 - val_acc: 0.9490\n",
      "Epoch 12/20\n",
      "7879/7879 [==============================] - 1s 71us/step - loss: 0.2120 - acc: 0.9471 - val_loss: 0.2036 - val_acc: 0.9490\n",
      "Epoch 13/20\n",
      "7879/7879 [==============================] - 1s 75us/step - loss: 0.2117 - acc: 0.9471 - val_loss: 0.2053 - val_acc: 0.9490\n",
      "Epoch 14/20\n",
      "7879/7879 [==============================] - 1s 75us/step - loss: 0.2111 - acc: 0.9471 - val_loss: 0.2047 - val_acc: 0.9490\n",
      "Epoch 15/20\n",
      "7879/7879 [==============================] - 1s 74us/step - loss: 0.2092 - acc: 0.9471 - val_loss: 0.2053 - val_acc: 0.9490\n",
      "Epoch 16/20\n",
      "7879/7879 [==============================] - 1s 76us/step - loss: 0.2106 - acc: 0.9471 - val_loss: 0.2043 - val_acc: 0.9490\n",
      "Epoch 17/20\n",
      "7879/7879 [==============================] - 1s 79us/step - loss: 0.2082 - acc: 0.9471 - val_loss: 0.2019 - val_acc: 0.9490\n",
      "Epoch 18/20\n",
      "7879/7879 [==============================] - 1s 78us/step - loss: 0.2087 - acc: 0.9471 - val_loss: 0.2019 - val_acc: 0.9490\n",
      "Epoch 19/20\n",
      "7879/7879 [==============================] - 1s 78us/step - loss: 0.2093 - acc: 0.9471 - val_loss: 0.2023 - val_acc: 0.9490\n",
      "Epoch 20/20\n",
      "7879/7879 [==============================] - 1s 77us/step - loss: 0.2087 - acc: 0.9471 - val_loss: 0.2043 - val_acc: 0.9490\n"
     ]
    }
   ],
   "source": [
    "hist_1 = model_1.fit(X_train,y_train,\n",
    "                 validation_data=(X_test,y_test),\n",
    "                 epochs=20,\n",
    "                 verbose=1)"
   ]
  },
  {
   "cell_type": "code",
   "execution_count": 83,
   "metadata": {},
   "outputs": [
    {
     "data": {
      "text/plain": [
       "<matplotlib.legend.Legend at 0x12b15c5f8>"
      ]
     },
     "execution_count": 83,
     "metadata": {},
     "output_type": "execute_result"
    },
    {
     "data": {
      "image/png": "[encoded data removed]",
      "text/plain": [
       "<matplotlib.figure.Figure at 0x12aeec2b0>"
      ]
     },
     "metadata": {},
     "output_type": "display_data"
    }
   ],
   "source": [
    "plt.plot(hist_1.history['loss'], label='Training loss')\n",
    "plt.plot(hist_1.history['val_loss'], label='Test loss')\n",
    "plt.legend()"
   ]
  },
  {
   "cell_type": "code",
   "execution_count": 84,
   "metadata": {
    "scrolled": false
   },
   "outputs": [
    {
     "data": {
      "text/plain": [
       "[<matplotlib.lines.Line2D at 0x12af7cc50>]"
      ]
     },
     "execution_count": 84,
     "metadata": {},
     "output_type": "execute_result"
    },
    {
     "data": {
      "image/png": "[encoded data removed]",
      "text/plain": [
       "<matplotlib.figure.Figure at 0x12aeeae48>"
      ]
     },
     "metadata": {},
     "output_type": "display_data"
    }
   ],
   "source": [
    "plt.plot(hist_1.history['val_acc'])"
   ]
  },
  {
   "cell_type": "code",
   "execution_count": 80,
   "metadata": {},
   "outputs": [
    {
     "data": {
      "text/html": [
       "<div>\n",
       "<style scoped>\n",
       "    .dataframe tbody tr th:only-of-type {\n",
       "        vertical-align: middle;\n",
       "    }\n",
       "\n",
       "    .dataframe tbody tr th {\n",
       "        vertical-align: top;\n",
       "    }\n",
       "\n",
       "    .dataframe thead th {\n",
       "        text-align: right;\n",
       "    }\n",
       "</style>\n",
       "<table border=\"1\" class=\"dataframe\">\n",
       "  <thead>\n",
       "    <tr style=\"text-align: right;\">\n",
       "      <th>Predicted</th>\n",
       "      <th>0</th>\n",
       "      <th>All</th>\n",
       "    </tr>\n",
       "    <tr>\n",
       "      <th>Actual</th>\n",
       "      <th></th>\n",
       "      <th></th>\n",
       "    </tr>\n",
       "  </thead>\n",
       "  <tbody>\n",
       "    <tr>\n",
       "      <th>0</th>\n",
       "      <td>2493</td>\n",
       "      <td>2493</td>\n",
       "    </tr>\n",
       "    <tr>\n",
       "      <th>1</th>\n",
       "      <td>134</td>\n",
       "      <td>134</td>\n",
       "    </tr>\n",
       "    <tr>\n",
       "      <th>All</th>\n",
       "      <td>2627</td>\n",
       "      <td>2627</td>\n",
       "    </tr>\n",
       "  </tbody>\n",
       "</table>\n",
       "</div>"
      ],
      "text/plain": [
       "Predicted     0   All\n",
       "Actual               \n",
       "0          2493  2493\n",
       "1           134   134\n",
       "All        2627  2627"
      ]
     },
     "execution_count": 80,
     "metadata": {},
     "output_type": "execute_result"
    }
   ],
   "source": [
    "pred_list = model_1.predict_classes(X_test)\n",
    "\n",
    "actual_list = []\n",
    "for each in y_test:\n",
    "    actual_list.append(np.argmax(each))\n",
    "    \n",
    "actual_list = pd.Series(actual_list, name='Actual')\n",
    "pred_list = pd.Series(pred_list, name='Predicted')\n",
    "keras_confusion = pd.crosstab(actual_list, pred_list, rownames=['Actual'], colnames=['Predicted'], margins=True)\n",
    "keras_confusion"
   ]
  },
  {
   "cell_type": "code",
   "execution_count": null,
   "metadata": {},
   "outputs": [],
   "source": []
  }
 ],
 "metadata": {
  "kernelspec": {
   "display_name": "Python [conda env:tensorflow]",
   "language": "python",
   "name": "conda-env-tensorflow-py"
  },
  "language_info": {
   "codemirror_mode": {
    "name": "ipython",
    "version": 3
   },
   "file_extension": ".py",
   "mimetype": "text/x-python",
   "name": "python",
   "nbconvert_exporter": "python",
   "pygments_lexer": "ipython3",
   "version": "3.6.4"
  }
 },
 "nbformat": 4,
 "nbformat_minor": 2
}
